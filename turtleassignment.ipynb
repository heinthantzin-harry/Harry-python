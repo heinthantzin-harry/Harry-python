{
 "cells": [
  {
   "cell_type": "code",
   "execution_count": null,
   "metadata": {},
   "outputs": [],
   "source": [
    "import turtle\n",
    "screen = turtle.Screen()\n",
    "screen.bgcolor(\"white\")  \n",
    "pen = turtle.Turtle()\n",
    "pen.speed(3)  \n",
    "\n",
    "\n",
    "def draw_circle(radius, color, x, y):\n",
    "    pen.penup()\n",
    "    pen.goto(x, y)\n",
    "    pen.pendown()\n",
    "    pen.begin_fill()\n",
    "    pen.color(color)\n",
    "    pen.circle(radius)\n",
    "    pen.end_fill()\n",
    "\n",
    "\n",
    "def draw_smile():\n",
    "    pen.penup()\n",
    "    pen.goto(-70, -20)\n",
    "    pen.setheading(-60) \n",
    "    pen.pendown()\n",
    "    pen.circle(80, 120) \n",
    "\n",
    "draw_circle(100, \"yellow\", 0, -100)\n",
    "draw_circle(15, \"black\", -35, 20)\n",
    "draw_circle(15, \"black\", 35, 20)\n",
    "pen.width(5) \n",
    "pen.color(\"black\")\n",
    "draw_smile()\n",
    "pen.hideturtle()\n",
    "screen.exitonclick()"
   ]
  }
 ],
 "metadata": {
  "kernelspec": {
   "display_name": "harry_first_python_env",
   "language": "python",
   "name": "python3"
  },
  "language_info": {
   "codemirror_mode": {
    "name": "ipython",
    "version": 3
   },
   "file_extension": ".py",
   "mimetype": "text/x-python",
   "name": "python",
   "nbconvert_exporter": "python",
   "pygments_lexer": "ipython3",
   "version": "3.12.4"
  }
 },
 "nbformat": 4,
 "nbformat_minor": 2
}
