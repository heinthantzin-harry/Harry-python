{
 "cells": [
  {
   "cell_type": "markdown",
   "metadata": {},
   "source": [
    "## Function, yes this is maths!"
   ]
  },
  {
   "cell_type": "code",
   "execution_count": null,
   "metadata": {},
   "outputs": [],
   "source": [
    "- fundamental\n",
    "- input\n",
    "- output\n",
    "- loop\n",
    "- operation\n",
    "- variables\n",
    "- condition\n",
    "- loop\n",
    "- Data Structure\n",
    "- string\n",
    "- list\n",
    "- tuple\n",
    "- set\n",
    "- Dicitionary\n"
   ]
  },
  {
   "cell_type": "markdown",
   "metadata": {},
   "source": [
    "## Code Organization"
   ]
  },
  {
   "cell_type": "code",
   "execution_count": null,
   "metadata": {},
   "outputs": [],
   "source": [
    "def function_name():\n",
    "\n",
    "def print_greeting():\n",
    "    \"\"\" This function will print hello for 3 times \"\"\"\n",
    "    print('Hello')\n",
    "    print('Hello')\n",
    "    print('Hello')\n"
   ]
  },
  {
   "cell_type": "code",
   "execution_count": 8,
   "metadata": {},
   "outputs": [],
   "source": [
    "def greet_person(person_name):\n",
    "    \"\"\" Receive the name of a person and print out the greeting sentence\n",
    "    \"\"\"\n",
    "    print(person_name)"
   ]
  },
  {
   "cell_type": "code",
   "execution_count": 10,
   "metadata": {},
   "outputs": [
    {
     "name": "stdout",
     "output_type": "stream",
     "text": [
      "Soda\n"
     ]
    }
   ],
   "source": [
    "greet_person('Soda')"
   ]
  },
  {
   "cell_type": "code",
   "execution_count": null,
   "metadata": {},
   "outputs": [],
   "source": [
    "five_function ပါရမယ်။"
   ]
  }
 ],
 "metadata": {
  "kernelspec": {
   "display_name": "harry_first_python_env",
   "language": "python",
   "name": "python3"
  },
  "language_info": {
   "codemirror_mode": {
    "name": "ipython",
    "version": 3
   },
   "file_extension": ".py",
   "mimetype": "text/x-python",
   "name": "python",
   "nbconvert_exporter": "python",
   "pygments_lexer": "ipython3",
   "version": "3.12.4"
  }
 },
 "nbformat": 4,
 "nbformat_minor": 2
}
