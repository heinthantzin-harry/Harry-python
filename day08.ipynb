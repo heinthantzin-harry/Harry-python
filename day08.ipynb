{
 "cells": [
  {
   "cell_type": "markdown",
   "metadata": {},
   "source": [
    "## f-string (string format)"
   ]
  },
  {
   "cell_type": "code",
   "execution_count": 7,
   "metadata": {},
   "outputs": [
    {
     "name": "stdout",
     "output_type": "stream",
     "text": [
      "Hello, harry. Your age is is, and your birthday is mote.\n"
     ]
    }
   ],
   "source": [
    "user_name = input()\n",
    "age = input()\n",
    "birthdate = input()\n",
    "greeting_msg = \"Hello, \" + user_name + \". Your age is \" + age + \", and your birthday is \" + birthdate + \".\"\n",
    "print(greeting_msg)"
   ]
  },
  {
   "cell_type": "code",
   "execution_count": 8,
   "metadata": {},
   "outputs": [
    {
     "name": "stdout",
     "output_type": "stream",
     "text": [
      "Hello, harry. Your age is 32, and your birthday is mote srr ml.\n"
     ]
    }
   ],
   "source": [
    "user_name = input()\n",
    "age = input()\n",
    "birthdate = input()\n",
    "greeting_msg = f\"Hello, {user_name}. Your age is {age}, and your birthday is {birthdate}.\"\n",
    "print(greeting_msg)"
   ]
  },
  {
   "cell_type": "markdown",
   "metadata": {},
   "source": [
    "## Spliting"
   ]
  },
  {
   "cell_type": "code",
   "execution_count": 13,
   "metadata": {},
   "outputs": [
    {
     "data": {
      "text/plain": [
       "['Hello,',\n",
       " 'harry.',\n",
       " 'Your',\n",
       " 'age',\n",
       " 'is',\n",
       " '32,',\n",
       " 'and',\n",
       " 'your',\n",
       " 'birthday',\n",
       " 'is',\n",
       " 'mote',\n",
       " 'srr',\n",
       " 'ml.']"
      ]
     },
     "execution_count": 13,
     "metadata": {},
     "output_type": "execute_result"
    }
   ],
   "source": [
    "greeting_msg.split()"
   ]
  },
  {
   "cell_type": "markdown",
   "metadata": {},
   "source": [
    "## in/not in operators"
   ]
  },
  {
   "cell_type": "code",
   "execution_count": null,
   "metadata": {},
   "outputs": [],
   "source": [
    "s = \"I love banana\""
   ]
  },
  {
   "cell_type": "markdown",
   "metadata": {},
   "source": [
    "## in/not in operators"
   ]
  },
  {
   "cell_type": "code",
   "execution_count": 23,
   "metadata": {},
   "outputs": [
    {
     "name": "stdout",
     "output_type": "stream",
     "text": [
      "(2, 1)\n"
     ]
    }
   ],
   "source": [
    "s = \"I love chicken\"\n",
    "result = s.count(\"c\"), s.count(\"o\")\n",
    "\n",
    "print(result)"
   ]
  },
  {
   "cell_type": "code",
   "execution_count": 33,
   "metadata": {},
   "outputs": [
    {
     "data": {
      "text/plain": [
       "'I W2NT C2KE CHOUT'"
      ]
     },
     "execution_count": 33,
     "metadata": {},
     "output_type": "execute_result"
    }
   ],
   "source": [
    "s.capitalize()\n",
    "s.upper()\n",
    "s = \"I WANT CAKE CHOUT\"\n",
    "s.isupper()\n",
    "s.replace(\"A\", \"2\")"
   ]
  },
  {
   "cell_type": "markdown",
   "metadata": {},
   "source": [
    "## Look by character"
   ]
  },
  {
   "cell_type": "code",
   "execution_count": null,
   "metadata": {},
   "outputs": [],
   "source": [
    "s ="
   ]
  },
  {
   "cell_type": "markdown",
   "metadata": {},
   "source": [
    "## Loop by index"
   ]
  },
  {
   "cell_type": "code",
   "execution_count": 38,
   "metadata": {},
   "outputs": [
    {
     "name": "stdout",
     "output_type": "stream",
     "text": [
      "0 i\n",
      "1  \n",
      "2 l\n",
      "3 o\n",
      "4 v\n",
      "5 e\n",
      "6  \n",
      "7 p\n",
      "8 e\n",
      "9 a\n",
      "10 c\n",
      "11 o\n",
      "12 c\n",
      "13 k\n"
     ]
    }
   ],
   "source": [
    "s = \"i love peacock\"\n",
    "for i in range(len(s)):\n",
    "    print(i, s[i])"
   ]
  },
  {
   "cell_type": "code",
   "execution_count": 42,
   "metadata": {},
   "outputs": [
    {
     "name": "stdout",
     "output_type": "stream",
     "text": [
      "i 0\n",
      "  1\n",
      "l 2\n",
      "o 3\n",
      "v 4\n",
      "e 5\n",
      "  6\n",
      "p 7\n",
      "e 8\n",
      "a 9\n",
      "c 10\n",
      "o 11\n",
      "c 12\n",
      "k 13\n"
     ]
    }
   ],
   "source": [
    "s = \"i love peacock\"\n",
    "for character, i in enumerate(s):\n",
    "    print(i, character)"
   ]
  },
  {
   "cell_type": "code",
   "execution_count": 2,
   "metadata": {},
   "outputs": [
    {
     "name": "stdout",
     "output_type": "stream",
     "text": [
      "2\n"
     ]
    }
   ],
   "source": [
    "n = int(input())\n",
    "result = n + 1\n",
    "print(result)"
   ]
  },
  {
   "cell_type": "code",
   "execution_count": 3,
   "metadata": {},
   "outputs": [
    {
     "name": "stdout",
     "output_type": "stream",
     "text": [
      "6\n"
     ]
    }
   ],
   "source": [
    "a = int(input()) \n",
    "b = int(input())\n",
    "c = int(input()) \n",
    "perimeter = a + b + c\n",
    "print(perimeter)"
   ]
  },
  {
   "cell_type": "code",
   "execution_count": 4,
   "metadata": {},
   "outputs": [
    {
     "name": "stdout",
     "output_type": "stream",
     "text": [
      "10\n"
     ]
    }
   ],
   "source": [
    "a = int(input())\n",
    "b = int(input())\n",
    "area_of_a_rectangle = a * b\n",
    "print(area_of_a_rectangle)"
   ]
  }
 ],
 "metadata": {
  "kernelspec": {
   "display_name": "harry_first_python_env",
   "language": "python",
   "name": "python3"
  },
  "language_info": {
   "codemirror_mode": {
    "name": "ipython",
    "version": 3
   },
   "file_extension": ".py",
   "mimetype": "text/x-python",
   "name": "python",
   "nbconvert_exporter": "python",
   "pygments_lexer": "ipython3",
   "version": "3.12.4"
  }
 },
 "nbformat": 4,
 "nbformat_minor": 2
}
