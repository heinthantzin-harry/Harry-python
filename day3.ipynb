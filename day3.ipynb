{
 "cells": [
  {
   "cell_type": "code",
   "execution_count": 11,
   "metadata": {},
   "outputs": [
    {
     "name": "stdout",
     "output_type": "stream",
     "text": [
      "25\n",
      "mote srr ml\n"
     ]
    }
   ],
   "source": [
    "name = \"harry\"\n",
    "age = 23 # test\n",
    "\n",
    "age = 25\n",
    "first_number = \"herry loves ivy\" # test\n",
    "first_number = \"mote srr ml\"\n",
    "print (age) # variables contains values\n",
    "print (first_number) # harry please find KEYWORDS which can't be used in variables"
   ]
  },
  {
   "cell_type": "code",
   "execution_count": 15,
   "metadata": {},
   "outputs": [
    {
     "name": "stdout",
     "output_type": "stream",
     "text": [
      "hello welcome me ds\n"
     ]
    }
   ],
   "source": [
    "name_input = input() # input is to get input from user\n",
    "print(\"hello\", \"welcome me\", name_input)\n",
    "del name_input"
   ]
  },
  {
   "cell_type": "code",
   "execution_count": 22,
   "metadata": {},
   "outputs": [
    {
     "name": "stdout",
     "output_type": "stream",
     "text": [
      "Hello 4 <class 'int'>\n"
     ]
    }
   ],
   "source": [
    "# int\n",
    "a = int(\"4\")\n",
    "# a = int(\"-4.4\")\n",
    "print(\"Hello\", a, type(a))"
   ]
  },
  {
   "cell_type": "code",
   "execution_count": 27,
   "metadata": {},
   "outputs": [
    {
     "name": "stdout",
     "output_type": "stream",
     "text": [
      "4\n"
     ]
    }
   ],
   "source": [
    "# float can change any int or string or float into float\n",
    "a = int(\"4\")\n",
    "print(a)"
   ]
  },
  {
   "cell_type": "code",
   "execution_count": 36,
   "metadata": {},
   "outputs": [
    {
     "name": "stdout",
     "output_type": "stream",
     "text": [
      "False <class 'bool'>\n"
     ]
    }
   ],
   "source": [
    "# bool()\n",
    "a = bool()\n",
    "# a = bool(\"\") # no values is false\n",
    "print(a, type(a))"
   ]
  },
  {
   "cell_type": "code",
   "execution_count": 46,
   "metadata": {},
   "outputs": [
    {
     "name": "stdout",
     "output_type": "stream",
     "text": [
      "\n",
      "None\n"
     ]
    }
   ],
   "source": [
    "# str() convert anything into string\n",
    "a = str(224)\n",
    "# a = str(a = bool(\"a\"))\n",
    "# a = str(print())\n",
    "a = str(print())\n",
    "print(a)"
   ]
  },
  {
   "cell_type": "code",
   "execution_count": 63,
   "metadata": {},
   "outputs": [
    {
     "data": {
      "text/plain": [
       "2.200000000000003"
      ]
     },
     "execution_count": 63,
     "metadata": {},
     "output_type": "execute_result"
    }
   ],
   "source": [
    "1 + 1 # we can do normal math in pytho\n",
    "a = 1 + 2\n",
    "a = 6 / 3\n",
    "a = 7 // 3 # use double // to get the whole number\n",
    "a = 7 // 3\n",
    "a = 32.2 % 3\n",
    "a"
   ]
  },
  {
   "cell_type": "code",
   "execution_count": 66,
   "metadata": {},
   "outputs": [
    {
     "data": {
      "text/plain": [
       "1"
      ]
     },
     "execution_count": 66,
     "metadata": {},
     "output_type": "execute_result"
    }
   ],
   "source": [
    "a = 0 ** 0\n",
    "a"
   ]
  },
  {
   "cell_type": "code",
   "execution_count": 70,
   "metadata": {},
   "outputs": [
    {
     "data": {
      "text/plain": [
       "0.0"
      ]
     },
     "execution_count": 70,
     "metadata": {},
     "output_type": "execute_result"
    }
   ],
   "source": [
    "10.0 - 10"
   ]
  },
  {
   "cell_type": "code",
   "execution_count": 74,
   "metadata": {},
   "outputs": [
    {
     "data": {
      "text/plain": [
       "12.0"
      ]
     },
     "execution_count": 74,
     "metadata": {},
     "output_type": "execute_result"
    }
   ],
   "source": [
    "1.5 // 1.5 # \n",
    "float(int(12.9))\n",
    "12.9 // 1"
   ]
  },
  {
   "cell_type": "code",
   "execution_count": 75,
   "metadata": {},
   "outputs": [],
   "source": [
    "# PEMDAS = Order of operations\n",
    "a = (2 * 2) - (2 / 2) - (2 ** 2) #1 st way of reorganizing\n",
    "a = 2*2 - 2/2 - 2**2 # 2 nd way of reorganizing\n",
    "\n",
    "a = 2 * 2 - 2 / 2 - 2 ** 2 # not being organized"
   ]
  },
  {
   "cell_type": "code",
   "execution_count": 84,
   "metadata": {},
   "outputs": [
    {
     "name": "stdout",
     "output_type": "stream",
     "text": [
      "0.5 6\n"
     ]
    }
   ],
   "source": [
    "a = 4 + 4 # 8\n",
    "b = 3 + 3 # 6\n",
    "a = a + 4 # 12\n",
    "# print(a + b) # 12 + 6\n",
    "a = b / a \n",
    "\n",
    "print (a, b)"
   ]
  },
  {
   "cell_type": "code",
   "execution_count": 91,
   "metadata": {},
   "outputs": [
    {
     "data": {
      "text/plain": [
       "0.8333333333333334"
      ]
     },
     "execution_count": 91,
     "metadata": {},
     "output_type": "execute_result"
    }
   ],
   "source": [
    "a = 1\n",
    "a = a + 4 #same # 5\n",
    "a += 4 #same # \n",
    "a -= 4\n",
    "a /= 6 # same as a = a / 6\n",
    "a"
   ]
  },
  {
   "cell_type": "code",
   "execution_count": 101,
   "metadata": {},
   "outputs": [
    {
     "data": {
      "text/plain": [
       "True"
      ]
     },
     "execution_count": 101,
     "metadata": {},
     "output_type": "execute_result"
    }
   ],
   "source": [
    "## logical operators\n",
    "\n",
    "2 > 3\n",
    "a = 6\n",
    "a < 7\n",
    "a == 5 # == try to equal\n",
    "a <= 5\n",
    "a != 5 # != not"
   ]
  },
  {
   "cell_type": "code",
   "execution_count": null,
   "metadata": {},
   "outputs": [],
   "source": []
  }
 ],
 "metadata": {
  "kernelspec": {
   "display_name": "harry_first_python_env",
   "language": "python",
   "name": "python3"
  },
  "language_info": {
   "codemirror_mode": {
    "name": "ipython",
    "version": 3
   },
   "file_extension": ".py",
   "mimetype": "text/x-python",
   "name": "python",
   "nbconvert_exporter": "python",
   "pygments_lexer": "ipython3",
   "version": "3.12.4"
  }
 },
 "nbformat": 4,
 "nbformat_minor": 2
}
